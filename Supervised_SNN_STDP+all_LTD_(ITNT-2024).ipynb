{
 "cells": [
  {
   "cell_type": "markdown",
   "metadata": {
    "id": "BhRCglWiOFgO"
   },
   "source": [
    "# Supervised learning of SNN with local rule 'STDP+all-LTD'"
   ]
  },
  {
   "cell_type": "markdown",
   "metadata": {
    "id": "cBd5xQQ5P5YK"
   },
   "source": [
    "SNN is trained on the MNIST dataset using the local rule 'STDP+all-LTD' (supervised learning).\n",
    "\n",
    "Changes in version 2:   \n",
    "- Homeostasis (adaptive threshold) is added for excitatory neurons. Every time neurons spikes, its threshold increases by certain amount."
   ]
  },
  {
   "cell_type": "code",
   "execution_count": 1,
   "metadata": {
    "_cell_guid": "b1076dfc-b9ad-4769-8c92-a6c4dae69d19",
    "_uuid": "8f2839f25d086af736a60e9eeb907d3b93b6e0e5",
    "execution": {
     "iopub.execute_input": "2021-09-03T05:43:36.448169Z",
     "iopub.status.busy": "2021-09-03T05:43:36.447845Z",
     "iopub.status.idle": "2021-09-03T05:43:47.740923Z",
     "shell.execute_reply": "2021-09-03T05:43:47.739673Z",
     "shell.execute_reply.started": "2021-09-03T05:43:36.448131Z"
    },
    "id": "XJKhb3JvOFgV",
    "scrolled": true
   },
   "outputs": [
    {
     "name": "stderr",
     "output_type": "stream",
     "text": [
      "2023-09-22 10:23:13.733046: I tensorflow/tsl/cuda/cudart_stub.cc:28] Could not find cuda drivers on your machine, GPU will not be used.\n",
      "2023-09-22 10:23:13.759928: I tensorflow/tsl/cuda/cudart_stub.cc:28] Could not find cuda drivers on your machine, GPU will not be used.\n",
      "2023-09-22 10:23:13.760415: I tensorflow/core/platform/cpu_feature_guard.cc:182] This TensorFlow binary is optimized to use available CPU instructions in performance-critical operations.\n",
      "To enable the following instructions: AVX2 FMA, in other operations, rebuild TensorFlow with the appropriate compiler flags.\n",
      "2023-09-22 10:23:14.266239: W tensorflow/compiler/tf2tensorrt/utils/py_utils.cc:38] TF-TRT Warning: Could not find TensorRT\n"
     ]
    }
   ],
   "source": [
    "from keras.datasets import mnist\n",
    "from brian2 import *\n",
    "import brian2.numpy_ as np\n",
    "import matplotlib.pyplot as plt\n",
    "from sklearn.ensemble import RandomForestClassifier\n",
    "from sklearn.metrics import accuracy_score, confusion_matrix\n",
    "import pandas as pd\n",
    "import csv\n",
    "import time\n",
    "import random"
   ]
  },
  {
   "cell_type": "markdown",
   "metadata": {},
   "source": [
    "## Selecting data from the MNIST dataset"
   ]
  },
  {
   "cell_type": "code",
   "execution_count": 2,
   "metadata": {
    "colab": {
     "base_uri": "https://localhost:8080/"
    },
    "execution": {
     "iopub.execute_input": "2021-09-03T05:43:47.743933Z",
     "iopub.status.busy": "2021-09-03T05:43:47.743467Z",
     "iopub.status.idle": "2021-09-03T05:43:48.434183Z",
     "shell.execute_reply": "2021-09-03T05:43:48.433207Z",
     "shell.execute_reply.started": "2021-09-03T05:43:47.743883Z"
    },
    "id": "fffB6EaSOFgY",
    "outputId": "693997d1-59ce-4901-9df2-920ff2077805"
   },
   "outputs": [
    {
     "name": "stdout",
     "output_type": "stream",
     "text": [
      "classes: [3, 8, 6]\n"
     ]
    },
    {
     "data": {
      "text/plain": [
       "((17900, 784), (2942, 784))"
      ]
     },
     "execution_count": 2,
     "metadata": {},
     "output_type": "execute_result"
    }
   ],
   "source": [
    "# select only 3 arbitrary classes out of 10\n",
    "\n",
    "classes = random.sample(range(10), 3)\n",
    "(X_train, y_train), (X_test, y_test) = mnist.load_data()\n",
    "\n",
    "img_size = 28*28 # input image size\n",
    "X_train = X_train.reshape(60000, img_size)\n",
    "X_test = X_test.reshape(10000, img_size)\n",
    "\n",
    "# simplified classification\n",
    "X_train = X_train[(y_train == classes[0]) | (y_train == classes[1]) | (y_train == classes[2])]\n",
    "y_train = y_train[(y_train == classes[0]) | (y_train == classes[1]) | (y_train == classes[2])]\n",
    "X_test = X_test[(y_test == classes[0]) | (y_test == classes[1]) | (y_test == classes[2])]\n",
    "y_test = y_test[(y_test == classes[0]) | (y_test == classes[1]) | (y_test == classes[2])]\n",
    "\n",
    "# pixel intensity to Hz (255 becoms ~63Hz)\n",
    "X_train = X_train / 4\n",
    "X_test = X_test / 4\n",
    "\n",
    "print(f'classes: {classes}')\n",
    "X_train.shape, X_test.shape"
   ]
  },
  {
   "cell_type": "markdown",
   "metadata": {},
   "source": [
    "## Initial data + Model"
   ]
  },
  {
   "cell_type": "code",
   "execution_count": 3,
   "metadata": {
    "execution": {
     "iopub.execute_input": "2021-09-03T05:44:01.649869Z",
     "iopub.status.busy": "2021-09-03T05:44:01.649425Z",
     "iopub.status.idle": "2021-09-03T05:44:01.679627Z",
     "shell.execute_reply": "2021-09-03T05:44:01.67746Z",
     "shell.execute_reply.started": "2021-09-03T05:44:01.649827Z"
    },
    "id": "d0MPKl5OOFgZ"
   },
   "outputs": [],
   "source": [
    "n_input = 28*28 # input layer\n",
    "\n",
    "# Setting 10 neurons per class\n",
    "n_e = 30 # e - excitatory\n",
    "n_i = n_e # i - inhibitory\n",
    "\n",
    "# v - membrane potential\n",
    "v_rest_e = -60.*mV \n",
    "v_reset_e = -65.*mV\n",
    "v_thresh_e = -52.*mV\n",
    "\n",
    "v_rest_i = -60.*mV\n",
    "v_reset_i = -45.*mV\n",
    "v_thresh_i = -40.*mV\n",
    "\n",
    "taupre = 20*ms\n",
    "taupost = taupre\n",
    "gmax = .05 #.01\n",
    "dApre = .01\n",
    "dApost = -dApre * taupre / taupost * 1.05\n",
    "dApost *= gmax\n",
    "dApre *= gmax\n",
    "\n",
    "wi = 3 # strength of inhibitory synapse\n",
    "\n",
    "# Apre and Apost - presynaptic and postsynaptic traces, lr - learning rate\n",
    "stdp='''w : 1\n",
    "    lr1 : 1\n",
    "    lr2 : 1\n",
    "    dApre/dt = -Apre / taupre : 1 (event-driven)\n",
    "    dApost/dt = -Apost / taupost : 1 (event-driven)'''\n",
    "pre='''ge += w\n",
    "    Apre += dApre\n",
    "    w = clip(w + lr1*Apost, 0, gmax)'''\n",
    "post='''Apost += dApost\n",
    "    w = clip(w + lr2*Apre, 0, gmax)'''\n",
    "\n",
    "#---------------------------------------------------------------------------------------------------------\n",
    "\n",
    "class Model():\n",
    "\n",
    "    def __init__(self):\n",
    "        app = {}\n",
    "\n",
    "        # input images as rate encoded Poisson generators\n",
    "        app['PG'] = PoissonGroup(n_input, rates=np.zeros(n_input)*Hz, name='PG')\n",
    "\n",
    "        # excitatory group + eq: dvt/dt = (v_thresh_e-vt)/(150*ms) : volt\n",
    "        neuron_e = '''\n",
    "            dv/dt = (ge*(0*mV-v) + gi*(-100*mV-v) + (v_rest_e-v)) / (100*ms) : volt\n",
    "            dvt/dt = (v_thresh_e-vt)/(150*ms) : volt\n",
    "            dge/dt = -ge / (5*ms) : 1\n",
    "            dgi/dt = -gi / (10*ms) : 1\n",
    "            v2 : volt\n",
    "            '''\n",
    "\n",
    "        # adaptive threshold\n",
    "        # the idea is borrowed from https://brian2.readthedocs.io/en/stable/examples/adaptive_threshold.html\n",
    "   \n",
    "        reset_e = '''\n",
    "        v = v_reset_e\n",
    "        vt += 3*mV\n",
    "        '''\n",
    "        app['EG'] = NeuronGroup(n_e, neuron_e, threshold='v>v2', \n",
    "                                refractory=5*ms, reset=reset_e, \n",
    "                                method='euler', name='EG')\n",
    "        app['EG'].v = v_rest_e - 20.*mV        \n",
    "        app['EG'].vt = v_thresh_e\n",
    "        app['EG'].v2 = v_thresh_e\n",
    "        \n",
    "        if (debug):\n",
    "            app['ESP'] = SpikeMonitor(app['EG'], name='ESP')\n",
    "            app['ESM'] = StateMonitor(app['EG'], ['v'], record=True, name='ESM')\n",
    "            app['ERM'] = PopulationRateMonitor(app['EG'], name='ERM')         \n",
    "            \n",
    "        # ibhibitory group\n",
    "        neuron_i = '''\n",
    "            dv/dt = (ge*(0*mV-v) + (v_rest_i-v)) / (10*ms) : volt\n",
    "            dge/dt = -ge / (5*ms) : 1\n",
    "            '''\n",
    "        app['IG'] = NeuronGroup(n_i, neuron_i, threshold='v>v_thresh_i', \n",
    "                                refractory=2*ms, reset='v=v_reset_i', \n",
    "                                method='euler', name='IG')\n",
    "        app['IG'].v = v_rest_i - 20.*mV\n",
    "\n",
    "        if (debug):\n",
    "            app['ISP'] = SpikeMonitor(app['IG'], name='ISP')\n",
    "            app['ISM'] = StateMonitor(app['IG'], ['v'], record=True, name='ISM')\n",
    "            app['IRM'] = PopulationRateMonitor(app['IG'], name='IRM')\n",
    "\n",
    "        # poisson generators one-to-all excitatory neurons with plastic connections\n",
    "        for cl in range(len(classes)):\n",
    "            # we should have a possibility to independently change learning rate for every class subgroup\n",
    "            app[f'S1_{cl}'] = Synapses(app['PG'], app['EG'][cl*10:(cl+1)*10], stdp, on_pre=pre, on_post=post, method='euler', \n",
    "                                       name=f'S1_{cl}')\n",
    "            app[f'S1_{cl}'].connect()\n",
    "            app[f'S1_{cl}'].w = 'rand()*gmax' # random weights initialisation\n",
    "            app[f'S1_{cl}'].lr1 = 1 # enable stdp\n",
    "            app[f'S1_{cl}'].lr2 = 1 # enable stdp\n",
    "\n",
    "        # excitatory neurons one-to-one inhibitory neurons\n",
    "        app['S2'] = Synapses(app['EG'], app['IG'], 'w : 1', on_pre='ge += w', name='S2')\n",
    "        app['S2'].connect(j='i')\n",
    "        app['S2'].delay = 'rand()*10*ms'\n",
    "        app['S2'].w = wi # very strong fixed weights to ensure corresponding inhibitory neuron will always fire\n",
    "\n",
    "        # inhibitory neurons one-to-all-except-one excitatory neurons\n",
    "        app['S3'] = Synapses(app['IG'], app['EG'], 'w : 1', on_pre='gi += w', name='S3')\n",
    "        app['S3'].connect(condition='i!=j')\n",
    "        app['S3'].delay = 'rand()*5*ms'\n",
    "        app['S3'].w = wi/n_e # weights are selected in such a way as to maintain a balance between excitation and ibhibition\n",
    "\n",
    "        self.net = Network(app.values())\n",
    "        self.net.run(0*second)\n",
    "\n",
    "    def __getitem__(self, key):\n",
    "        return self.net[key]\n",
    "\n",
    "    def train(self, X, targets, epoch=1):\n",
    "        # X is the input image\n",
    "        # y is the label for image X\n",
    "        \n",
    "        for ep in range(epoch):\n",
    "            for idx in range(len(X)):\n",
    "                yt = int(targets[idx]) # target class\n",
    "                self.net['EG'].v2 = 'vt'\n",
    "\n",
    "                # set learning rate for each subgroup of excitatory neurons\n",
    "                for cl in range(len(classes)):\n",
    "                    if cl == classes.index(yt):\n",
    "                        self.net[f'S1_{cl}'].lr1 = 1 # regular STDP\n",
    "                        self.net[f'S1_{cl}'].lr2 = 1\n",
    "                    else:\n",
    "                        self.net[f'S1_{cl}'].lr1 = 1  # all-LTD\n",
    "                        self.net[f'S1_{cl}'].lr2 = -1\n",
    "\n",
    "                # active mode\n",
    "                self.net['PG'].rates = X[idx].ravel()*Hz\n",
    "                self.net.run(0.35*second)\n",
    "\n",
    "                # passive mode\n",
    "                self.net['PG'].rates = np.zeros(n_input)*Hz\n",
    "                self.net.run(0.15*second)\n",
    "\n",
    "\n",
    "    def evaluate(self, X, targets):\n",
    "        \n",
    "        self.net['EG'].v2 = v_thresh_e           \n",
    "\n",
    "        for cl in range(len(classes)):\n",
    "            self.net[f'S1_{cl}'].lr1 = 0  # turn off learning (freezing synaptic weights)\n",
    "            self.net[f'S1_{cl}'].lr2 = 0  # turn off learning (freezing synaptic weights)\n",
    "\n",
    "        cc = 0 # number of correct classifications\n",
    "        \n",
    "        for idx in range(len(X)):\n",
    "            yt = int(targets[idx]) # target class\n",
    "\n",
    "            # rate monitor to count spikes\n",
    "            mon = SpikeMonitor(self.net['EG'], record=False, name='RM')\n",
    "            self.net.add(mon)\n",
    "\n",
    "            # active mode\n",
    "            self.net['PG'].rates = X[idx].ravel()*Hz\n",
    "            self.net.run(0.35*second)\n",
    "\n",
    "            counts = [] # spike counts for every group\n",
    "            \n",
    "            # calculate spike count for every group of excitatory neurons\n",
    "            for cl in range(len(classes)):\n",
    "                counts.append(sum(mon.count[cl*10:(cl+1)*10]))\n",
    "            if counts.index(max(counts)) == classes.index(yt): # check the correctness of prediction\n",
    "                cc += 1\n",
    "\n",
    "            # passive mode\n",
    "            self.net['PG'].rates = np.zeros(n_input)*Hz\n",
    "            self.net.run(0.15*second)\n",
    "\n",
    "            self.net.remove(self.net['RM']) # delete monitor to free up memory\n",
    "\n",
    "\n",
    "        return cc/len(X) # return accuracy"
   ]
  },
  {
   "cell_type": "markdown",
   "metadata": {},
   "source": [
    "## Model activation"
   ]
  },
  {
   "cell_type": "code",
   "execution_count": 4,
   "metadata": {
    "colab": {
     "base_uri": "https://localhost:8080/"
    },
    "execution": {
     "iopub.execute_input": "2021-09-03T05:47:36.506403Z",
     "iopub.status.busy": "2021-09-03T05:47:36.505931Z",
     "iopub.status.idle": "2021-09-03T05:49:36.947686Z",
     "shell.execute_reply": "2021-09-03T05:49:36.946374Z",
     "shell.execute_reply.started": "2021-09-03T05:47:36.506362Z"
    },
    "id": "03MV_iOVOFge",
    "outputId": "7352579a-5d2b-48ea-867b-a9e15472ab2a"
   },
   "outputs": [],
   "source": [
    "model = Model()"
   ]
  },
  {
   "cell_type": "markdown",
   "metadata": {},
   "source": [
    "## Train + test\n",
    "At each stage, a test is performed on 1000 images after training on 100 images."
   ]
  },
  {
   "cell_type": "code",
   "execution_count": 5,
   "metadata": {},
   "outputs": [
    {
     "name": "stdout",
     "output_type": "stream",
     "text": [
      "Classes: [3, 8, 6]\n",
      "0. train time: 0:38- test time:  6:50- total time:  7 min 29 sec\n",
      "   - classification accuracy = 82.4%\n",
      "1. train time: 0:39- test time:  6:47- total time:  14 min 56 sec\n",
      "   - classification accuracy = 80.6%\n",
      "2. train time: 0:40- test time:  6:45- total time:  22 min 21 sec\n",
      "   - classification accuracy = 79.6%\n",
      "3. train time: 0:39- test time:  6:48- total time:  29 min 49 sec\n",
      "   - classification accuracy = 82.0%\n",
      "4. train time: 0:40- test time:  6:52- total time:  37 min 21 sec\n",
      "   - classification accuracy = 81.4%\n",
      "5. train time: 0:39- test time:  6:51- total time:  44 min 52 sec\n",
      "   - classification accuracy = 83.2%\n",
      "6. train time: 0:39- test time:  7:4- total time:  52 min 36 sec\n",
      "   - classification accuracy = 84.0%\n",
      "7. train time: 0:40- test time:  6:54- total time:  60 min 11 sec\n",
      "   - classification accuracy = 85.0%\n",
      "8. train time: 0:40- test time:  6:56- total time:  67 min 48 sec\n",
      "   - classification accuracy = 84.2%\n",
      "9. train time: 0:40- test time:  6:49- total time:  75 min 17 sec\n",
      "   - classification accuracy = 84.7%\n",
      "10. train time: 0:39- test time:  6:45- total time:  82 min 42 sec\n",
      "   - classification accuracy = 84.7%\n",
      "11. train time: 0:39- test time:  6:48- total time:  90 min 10 sec\n",
      "   - classification accuracy = 83.3%\n",
      "12. train time: 0:40- test time:  6:46- total time:  97 min 37 sec\n",
      "   - classification accuracy = 85.0%\n",
      "13. train time: 0:39- test time:  6:47- total time:  105 min 4 sec\n",
      "   - classification accuracy = 84.9%\n",
      "14. train time: 0:39- test time:  6:42- total time:  112 min 25 sec\n",
      "   - classification accuracy = 86.7%\n",
      "15. train time: 0:39- test time:  6:42- total time:  119 min 47 sec\n",
      "   - classification accuracy = 86.5%\n",
      "16. train time: 0:38- test time:  6:42- total time:  127 min 8 sec\n",
      "   - classification accuracy = 86.5%\n",
      "17. train time: 0:38- test time:  6:47- total time:  134 min 34 sec\n",
      "   - classification accuracy = 85.5%\n",
      "18. train time: 0:38- test time:  6:45- total time:  141 min 59 sec\n",
      "   - classification accuracy = 87.6%\n",
      "19. train time: 0:40- test time:  6:48- total time:  149 min 28 sec\n",
      "   - classification accuracy = 87.6%\n",
      "20. train time: 0:38- test time:  6:37- total time:  156 min 44 sec\n",
      "   - classification accuracy = 85.7%\n",
      "21. train time: 0:38- test time:  6:37- total time:  164 min 0 sec\n",
      "   - classification accuracy = 86.2%\n",
      "22. train time: 0:38- test time:  6:47- total time:  171 min 25 sec\n",
      "   - classification accuracy = 85.3%\n",
      "23. train time: 0:40- test time:  6:50- total time:  178 min 57 sec\n",
      "   - classification accuracy = 85.0%\n",
      "24. train time: 0:39- test time:  6:43- total time:  186 min 20 sec\n",
      "   - classification accuracy = 85.9%\n",
      "25. train time: 0:39- test time:  6:42- total time:  193 min 41 sec\n",
      "   - classification accuracy = 87.7%\n",
      "26. train time: 0:39- test time:  6:42- total time:  201 min 3 sec\n",
      "   - classification accuracy = 87.0%\n",
      "27. train time: 0:39- test time:  6:43- total time:  208 min 26 sec\n",
      "   - classification accuracy = 86.8%\n",
      "28. train time: 0:40- test time:  6:47- total time:  215 min 53 sec\n",
      "   - classification accuracy = 86.4%\n",
      "29. train time: 0:39- test time:  6:40- total time:  223 min 13 sec\n",
      "   - classification accuracy = 86.8%\n",
      "30. train time: 0:38- test time:  6:36- total time:  230 min 28 sec\n",
      "   - classification accuracy = 86.8%\n",
      "31. train time: 0:38- test time:  6:36- total time:  237 min 43 sec\n",
      "   - classification accuracy = 86.9%\n",
      "32. train time: 0:38- test time:  6:42- total time:  245 min 3 sec\n",
      "   - classification accuracy = 85.8%\n",
      "33. train time: 0:38- test time:  6:41- total time:  252 min 24 sec\n",
      "   - classification accuracy = 86.2%\n",
      "34. train time: 0:38- test time:  6:41- total time:  259 min 45 sec\n",
      "   - classification accuracy = 85.6%\n",
      "35. train time: 0:38- test time:  6:41- total time:  267 min 5 sec\n",
      "   - classification accuracy = 84.5%\n",
      "36. train time: 0:38- test time:  6:41- total time:  274 min 26 sec\n",
      "   - classification accuracy = 86.2%\n",
      "37. train time: 0:38- test time:  6:42- total time:  281 min 47 sec\n",
      "   - classification accuracy = 86.4%\n",
      "38. train time: 0:38- test time:  6:44- total time:  289 min 10 sec\n",
      "   - classification accuracy = 85.8%\n",
      "39. train time: 0:39- test time:  6:43- total time:  296 min 33 sec\n",
      "   - classification accuracy = 86.4%\n",
      "40. train time: 0:39- test time:  6:42- total time:  303 min 54 sec\n",
      "   - classification accuracy = 86.4%\n",
      "41. train time: 0:39- test time:  6:42- total time:  311 min 15 sec\n",
      "   - classification accuracy = 87.5%\n",
      "42. train time: 0:39- test time:  6:42- total time:  318 min 37 sec\n",
      "   - classification accuracy = 86.7%\n",
      "43. train time: 0:39- test time:  6:45- total time:  326 min 1 sec\n",
      "   - classification accuracy = 87.0%\n",
      "44. train time: 0:39- test time:  6:46- total time:  333 min 28 sec\n",
      "   - classification accuracy = 86.9%\n",
      "45. train time: 0:39- test time:  6:44- total time:  340 min 52 sec\n",
      "   - classification accuracy = 87.2%\n",
      "46. train time: 0:39- test time:  6:44- total time:  348 min 15 sec\n",
      "   - classification accuracy = 87.4%\n",
      "47. train time: 0:39- test time:  6:42- total time:  355 min 37 sec\n",
      "   - classification accuracy = 87.6%\n",
      "48. train time: 0:39- test time:  6:46- total time:  363 min 2 sec\n",
      "   - classification accuracy = 86.7%\n",
      "49. train time: 0:40- test time:  6:48- total time:  370 min 31 sec\n",
      "   - classification accuracy = 87.6%\n"
     ]
    }
   ],
   "source": [
    "# train-n-test proceeding\n",
    "\n",
    "train_items=100 \n",
    "test_items=1000\n",
    "\n",
    "print(f'Classes: {classes}')\n",
    "list_accuracy = []\n",
    "total_time = 0\n",
    "\n",
    "for i in range(50):\n",
    "    \n",
    "    start0 = time.time()\n",
    "    model.train(X_train[:train_items], y_train[:train_items], epoch=1)\n",
    "    end0 = time.time()\n",
    "    total_time += end0 - start0\n",
    "    \n",
    "    start = time.time()\n",
    "    accuracy = model.evaluate(X_test[:test_items], y_test[:test_items])\n",
    "    list_accuracy.append(accuracy) \n",
    "    end = time.time()\n",
    "    total_time += end - start\n",
    "    \n",
    "    print(f'{i}. train time: {int((end0 - start0)//60)}:{int((end0 - start0)%60)}' \\\n",
    "          f'- test time:  {int((end - start)//60)}:{int((end - start)%60)}'\\\n",
    "          f'- total time:  {int((total_time)//60)} min {int((total_time)%60)} sec')\n",
    "\n",
    "    print(f'   - classification accuracy = {accuracy*100 :.1f}%')"
   ]
  },
  {
   "cell_type": "markdown",
   "metadata": {},
   "source": [
    "## Results chart"
   ]
  },
  {
   "cell_type": "code",
   "execution_count": 6,
   "metadata": {
    "scrolled": false
   },
   "outputs": [
    {
     "data": {
      "image/png": "[encoded data removed]",
      "text/plain": [
       "<Figure size 1000x400 with 1 Axes>"
      ]
     },
     "metadata": {},
     "output_type": "display_data"
    }
   ],
   "source": [
    "plt.rcParams[\"figure.figsize\"] = (10,4)\n",
    "plt.plot(np.arange(len(list_accuracy))*100, list_accuracy, color='blue', marker='o', linestyle='dashed',\n",
    "     linewidth=2, markersize=8)\n",
    "plt.ylabel('Точность') # accuracy\n",
    "plt.xlabel('Количество изображений') # train images\n",
    "plt.show();"
   ]
  },
  {
   "cell_type": "code",
   "execution_count": 7,
   "metadata": {},
   "outputs": [],
   "source": [
    "with open('list_dynamic_accuracy.csv', 'w') as file:\n",
    "        csv.writer(file, delimiter=';').writerow(list_accuracy)"
   ]
  },
  {
   "cell_type": "code",
   "execution_count": 8,
   "metadata": {},
   "outputs": [
    {
     "data": {
      "text/html": [
       "<div>\n",
       "<style scoped>\n",
       "    .dataframe tbody tr th:only-of-type {\n",
       "        vertical-align: middle;\n",
       "    }\n",
       "\n",
       "    .dataframe tbody tr th {\n",
       "        vertical-align: top;\n",
       "    }\n",
       "\n",
       "    .dataframe thead th {\n",
       "        text-align: right;\n",
       "    }\n",
       "</style>\n",
       "<table border=\"1\" class=\"dataframe\">\n",
       "  <thead>\n",
       "    <tr style=\"text-align: right;\">\n",
       "      <th></th>\n",
       "      <th>0.824</th>\n",
       "      <th>0.806</th>\n",
       "      <th>0.796</th>\n",
       "      <th>0.82</th>\n",
       "      <th>0.814</th>\n",
       "      <th>0.832</th>\n",
       "      <th>0.84</th>\n",
       "      <th>0.85</th>\n",
       "      <th>0.842</th>\n",
       "      <th>0.847</th>\n",
       "      <th>...</th>\n",
       "      <th>0.864.3</th>\n",
       "      <th>0.875</th>\n",
       "      <th>0.867.1</th>\n",
       "      <th>0.87.1</th>\n",
       "      <th>0.869.1</th>\n",
       "      <th>0.872</th>\n",
       "      <th>0.874</th>\n",
       "      <th>0.876.2</th>\n",
       "      <th>0.867.2</th>\n",
       "      <th>0.876.3</th>\n",
       "    </tr>\n",
       "  </thead>\n",
       "  <tbody>\n",
       "  </tbody>\n",
       "</table>\n",
       "<p>0 rows × 50 columns</p>\n",
       "</div>"
      ],
      "text/plain": [
       "Empty DataFrame\n",
       "Columns: [0.824, 0.806, 0.796, 0.82, 0.814, 0.832, 0.84, 0.85, 0.842, 0.847, 0.847.1, 0.833, 0.85.1, 0.849, 0.867, 0.865, 0.865.1, 0.855, 0.876, 0.876.1, 0.857, 0.862, 0.853, 0.85.2, 0.859, 0.877, 0.87, 0.868, 0.864, 0.868.1, 0.868.2, 0.869, 0.858, 0.862.1, 0.856, 0.845, 0.862.2, 0.864.1, 0.858.1, 0.864.2, 0.864.3, 0.875, 0.867.1, 0.87.1, 0.869.1, 0.872, 0.874, 0.876.2, 0.867.2, 0.876.3]\n",
       "Index: []\n",
       "\n",
       "[0 rows x 50 columns]"
      ]
     },
     "execution_count": 8,
     "metadata": {},
     "output_type": "execute_result"
    }
   ],
   "source": [
    "path = f'./'\n",
    "list_dynamic_accuracy = pd.read_csv(f'{path}list_dynamic_accuracy.csv', delimiter=';')\n",
    "list_dynamic_accuracy"
   ]
  }
 ],
 "metadata": {
  "colab": {
   "provenance": []
  },
  "kernelspec": {
   "display_name": "Python 3",
   "language": "python",
   "name": "python3"
  },
  "language_info": {
   "codemirror_mode": {
    "name": "ipython",
    "version": 3
   },
   "file_extension": ".py",
   "mimetype": "text/x-python",
   "name": "python",
   "nbconvert_exporter": "python",
   "pygments_lexer": "ipython3",
   "version": "3.8.5"
  }
 },
 "nbformat": 4,
 "nbformat_minor": 1
}
